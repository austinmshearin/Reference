{
 "cells": [
  {
   "cell_type": "markdown",
   "id": "ffeb6b51-3b5a-4872-8a0a-7b888d729b2f",
   "metadata": {},
   "source": [
    "# Imports"
   ]
  },
  {
   "cell_type": "code",
   "execution_count": null,
   "id": "4b2a4b6d-1845-4403-a73d-0941d1ae76c5",
   "metadata": {},
   "outputs": [],
   "source": [
    "import numpy as np\n",
    "import pandas as pd\n",
    "import seaborn as sns\n",
    "from sklearn import datasets\n",
    "from sklearn.model_selection import train_test_split\n",
    "from sklearn.model_selection import GridSearchCV\n",
    "from sklearn.preprocessing import StandardScaler\n",
    "from sklearn import svm\n",
    "from sklearn.pipeline import Pipeline\n",
    "from sklearn.metrics import classification_report"
   ]
  },
  {
   "cell_type": "markdown",
   "id": "2a6307f5-bea9-4e91-a486-396b44f3e0e3",
   "metadata": {},
   "source": [
    "# Load Dataset"
   ]
  },
  {
   "cell_type": "code",
   "execution_count": null,
   "id": "cb69933a-8ca5-4fc3-b527-83a0aaa1e7ca",
   "metadata": {},
   "outputs": [],
   "source": [
    "iris = datasets.load_iris()"
   ]
  },
  {
   "cell_type": "code",
   "execution_count": null,
   "id": "d7a1a94e-25c6-4ef1-8350-6a97b0bbf830",
   "metadata": {},
   "outputs": [],
   "source": [
    "df = pd.DataFrame(\n",
    "    {\n",
    "        \"{}\".format(iris.feature_names[0][:-5]): iris.data[:,0].tolist(),\n",
    "        \"{}\".format(iris.feature_names[1][:-5]): iris.data[:,1].tolist(),\n",
    "        \"{}\".format(iris.feature_names[2][:-5]): iris.data[:,2].tolist(),\n",
    "        \"{}\".format(iris.feature_names[3][:-5]): iris.data[:,3].tolist(),\n",
    "        \"species\": [iris.target_names[species] for species in iris.target]\n",
    "    }\n",
    ")"
   ]
  },
  {
   "cell_type": "markdown",
   "id": "d9e655fd-a313-4ae0-b2da-488e3fa445e8",
   "metadata": {},
   "source": [
    "# Exploratory Data Analysis"
   ]
  },
  {
   "cell_type": "code",
   "execution_count": null,
   "id": "673f335b-8a96-458c-97ea-1bd405396680",
   "metadata": {},
   "outputs": [],
   "source": [
    "sns.pairplot(df, hue='species', height = 2)"
   ]
  },
  {
   "cell_type": "code",
   "execution_count": null,
   "id": "fdd3e49c-50d4-49cd-9430-bcb1eb7b7da0",
   "metadata": {},
   "outputs": [],
   "source": [
    "sns.lmplot(data=df, x='sepal length', y='petal length', hue='species')"
   ]
  },
  {
   "cell_type": "markdown",
   "id": "9300c3f6-d4a7-44ab-81ac-0baaa4e38c4d",
   "metadata": {},
   "source": [
    "# Data Splitting"
   ]
  },
  {
   "cell_type": "code",
   "execution_count": null,
   "id": "06d68ee4-c743-4d1e-92b4-491f75147eb2",
   "metadata": {},
   "outputs": [],
   "source": [
    "X_train, X_test, y_train, y_test = train_test_split(iris.data, iris.target, random_state=0, train_size=0.7, test_size=0.3)"
   ]
  },
  {
   "cell_type": "markdown",
   "id": "0b3dc36c-0fa6-4539-b407-cd4459e3363e",
   "metadata": {},
   "source": [
    "# Support Vector Machine"
   ]
  },
  {
   "cell_type": "code",
   "execution_count": null,
   "id": "67506a61-8255-4e96-b97d-26f371353f35",
   "metadata": {},
   "outputs": [],
   "source": [
    "scaler = StandardScaler()"
   ]
  },
  {
   "cell_type": "code",
   "execution_count": null,
   "id": "89fd593f-055f-462c-9f54-f61f16bd756a",
   "metadata": {},
   "outputs": [],
   "source": [
    "svm_svc = svm.SVC()"
   ]
  },
  {
   "cell_type": "code",
   "execution_count": null,
   "id": "de4f78c1-6382-4d78-956a-72e9e19cd6e5",
   "metadata": {},
   "outputs": [],
   "source": [
    "clf = Pipeline([('scaler', scaler), ('svm_svc', svm_svc)])"
   ]
  },
  {
   "cell_type": "code",
   "execution_count": null,
   "id": "3a55bac9-fcbb-4718-82d8-5a3cec0cbc08",
   "metadata": {
    "scrolled": true
   },
   "outputs": [],
   "source": [
    "clf.fit(X_train, y_train)"
   ]
  },
  {
   "cell_type": "code",
   "execution_count": null,
   "id": "b79c8cef-0d32-4721-8e57-0ee67447610c",
   "metadata": {},
   "outputs": [],
   "source": [
    "parameters = {\n",
    "    'svm_svc__kernel': ('linear', 'poly', 'rbf', 'sigmoid'),\n",
    "    'svm_svc__C': [1,2,5,7,10]\n",
    "}"
   ]
  },
  {
   "cell_type": "code",
   "execution_count": null,
   "id": "4844e226-4aec-4dfb-923b-57fd6f39631b",
   "metadata": {},
   "outputs": [],
   "source": [
    "grid = GridSearchCV(clf, parameters, cv=5)"
   ]
  },
  {
   "cell_type": "code",
   "execution_count": null,
   "id": "42bcf944-3614-494a-8aaa-128b14696814",
   "metadata": {
    "scrolled": true
   },
   "outputs": [],
   "source": [
    "grid.fit(X_train, y_train)"
   ]
  },
  {
   "cell_type": "code",
   "execution_count": null,
   "id": "8cdd3634-45dd-4929-8b52-6bf10e5bac58",
   "metadata": {},
   "outputs": [],
   "source": [
    "print(grid.best_params_)"
   ]
  },
  {
   "cell_type": "code",
   "execution_count": null,
   "id": "2d520d44-71bc-422d-b8ac-b5c8e7736106",
   "metadata": {},
   "outputs": [],
   "source": [
    "y_pred = grid.predict(X_test)"
   ]
  },
  {
   "cell_type": "code",
   "execution_count": null,
   "id": "971d04c3-1ba6-4bd1-afba-d98428c9f0eb",
   "metadata": {},
   "outputs": [],
   "source": [
    "print(classification_report(y_test, y_pred, target_names=iris.target_names))"
   ]
  },
  {
   "cell_type": "code",
   "execution_count": null,
   "id": "a27c19b3-1e65-4789-b3ae-85232ded83ee",
   "metadata": {},
   "outputs": [],
   "source": []
  }
 ],
 "metadata": {
  "kernelspec": {
   "display_name": "Reference_VirEnv",
   "language": "python",
   "name": "reference_virenv"
  },
  "language_info": {
   "codemirror_mode": {
    "name": "ipython",
    "version": 3
   },
   "file_extension": ".py",
   "mimetype": "text/x-python",
   "name": "python",
   "nbconvert_exporter": "python",
   "pygments_lexer": "ipython3",
   "version": "3.10.2"
  }
 },
 "nbformat": 4,
 "nbformat_minor": 5
}
